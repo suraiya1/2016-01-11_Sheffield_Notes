{
 "cells": [
  {
   "cell_type": "markdown",
   "metadata": {},
   "source": [
    "# 2016-01-11 Sheffield OpenAstronomy Workshop"
   ]
  },
  {
   "cell_type": "markdown",
   "metadata": {},
   "source": [
    "This repository contains notebooks for the different Python lessons.\n",
    "\n",
    "1. [Python 1](./02-Python1/index.ipynb)\n",
    "2. [Python 2](./03-Python2/index.ipynb)\n",
    "3. [Units](./04-Units/Units_Quantities.ipynb)\n",
    "4. [Images and Plotting](./05-images/images-and-plotting.ipynb)\n",
    "5. [Astroimages - WCS](./06-astroimages/06-Astro-Images.ipynb)\n",
    "6. [Tables](./07-tables/reading_tables.ipynb)"
   ]
  }
 ],
 "metadata": {
  "kernelspec": {
   "display_name": "Python 2",
   "language": "python",
   "name": "python2"
  },
  "language_info": {
   "codemirror_mode": {
    "name": "ipython",
    "version": 2
   },
   "file_extension": ".py",
   "mimetype": "text/x-python",
   "name": "python",
   "nbconvert_exporter": "python",
   "pygments_lexer": "ipython2",
   "version": "2.7.11"
  }
 },
 "nbformat": 4,
 "nbformat_minor": 0
}
