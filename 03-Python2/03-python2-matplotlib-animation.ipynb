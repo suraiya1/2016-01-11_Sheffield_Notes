{
 "cells": [
  {
   "cell_type": "code",
   "execution_count": null,
   "metadata": {
    "collapsed": true
   },
   "outputs": [],
   "source": []
  },
  {
   "cell_type": "markdown",
   "metadata": {
    "ein.tags": [
     "worksheet-0"
    ]
   },
   "source": [
    "# Bringing it all Together - Animations in Matplotlib"
   ]
  },
  {
   "cell_type": "markdown",
   "metadata": {
    "ein.tags": [
     "worksheet-0"
    ]
   },
   "source": [
    "In this final exercise we are going to make use of all the skills you have developed in Python today, and approximate pi with a nice matplotlib animation.\n",
    "\n",
    "In this example we are going to approximate pi by calculating the difference in the area of a unit square and a unit circle. We shall do this by randomly picking a point inside the unit square and determining if that point is inside the unit circle contained within the square. The ratio of points inside both the square and the circle to the ratio of points only in the square will allow us to approximate pi.\n",
    "\n",
    "First we will introduce you to the matplotlib animation module."
   ]
  },
  {
   "cell_type": "markdown",
   "metadata": {},
   "source": [
    "# Challenge 1\n",
    "\n",
    "Approximate pi by the Monte Carlo method in a for loop. For each iteration of the loop you will need to generate a random x and y coordinate of your point (between 0 and 1), and then calculate if this is inside the circule of radius 1. You can then approximate $\\pi$ using the following equation:\n",
    "\n",
    "$$\n",
    "\\pi = \\frac{\\text{number of points in circle}}{\\text{total number of points}}\n",
    "$$\n",
    "\n",
    "You will probably find [`numpy.random.rand()`](http://docs.scipy.org/doc/numpy-1.10.0/reference/generated/numpy.random.rand.html) and [`numpy.sqrt()`](http://docs.scipy.org/doc/numpy-1.10.0/reference/generated/numpy.sqrt.html) useful.\n",
    "\n",
    "Print the approximation at each step to see it getting more accurate."
   ]
  },
  {
   "cell_type": "code",
   "execution_count": null,
   "metadata": {
    "collapsed": false
   },
   "outputs": [],
   "source": [
    "import numpy as np\n",
    "import random as rand\n",
    "x = 1\n",
    "for i in range (1, 1000):\n",
    "       \n",
    "#        print x\n",
    "    \n",
    "#y = (x**2.0)*rand(0, 1)\n",
    "#z = (p*((x/2)**2)rand (0, 1))\n",
    "\n",
    "    p = ((x**2.0)*np.random.rand())/(((x/2.)**2)*np.random.rand())\n",
    "\n",
    "print p"
   ]
  },
  {
   "cell_type": "code",
   "execution_count": null,
   "metadata": {
    "collapsed": false,
    "scrolled": true
   },
   "outputs": [],
   "source": [
    "p"
   ]
  },
  {
   "cell_type": "markdown",
   "metadata": {
    "ein.tags": [
     "worksheet-0"
    ]
   },
   "source": [
    "## Animations"
   ]
  },
  {
   "cell_type": "markdown",
   "metadata": {
    "ein.tags": [
     "worksheet-0"
    ]
   },
   "source": [
    "Matplotlib supports animation of all of its figure types. We will show you an example here.\n",
    "\n",
    "First things first, we need to import Animation."
   ]
  },
  {
   "cell_type": "code",
   "execution_count": null,
   "metadata": {
    "autoscroll": "json-false",
    "collapsed": false,
    "ein.tags": [
     "worksheet-0"
    ]
   },
   "outputs": [],
   "source": [
    "from __future__ import division\n",
    "points_in =0\n",
    "for i in range(100):\n",
    "    x= np.random.rand()\n",
    "    y= np.random.rand()\n",
    "    r = np.sqrt(x**2. +y**2)\n",
    "    if r<= 1:\n",
    "        points_in += 1\n",
    "    pi_4 = points_in/(i+1)\n",
    "    \n",
    "    print ('pi = {}'.format(pi_4*4))\n",
    "    "
   ]
  },
  {
   "cell_type": "markdown",
   "metadata": {
    "ein.tags": [
     "worksheet-0"
    ]
   },
   "source": [
    "So animation plotting is based off creating a function. So in this case, we are animating a line plot."
   ]
  },
  {
   "cell_type": "code",
   "execution_count": null,
   "metadata": {
    "autoscroll": "json-false",
    "collapsed": false,
    "ein.tags": [
     "worksheet-0"
    ]
   },
   "outputs": [],
   "source": [
    "%matplotlib nbagg\n",
    "import matplotlib.pyplot as plt\n",
    "import matplotlib.animation as ani\n",
    "import numpy as np"
   ]
  },
  {
   "cell_type": "code",
   "execution_count": null,
   "metadata": {
    "autoscroll": "json-false",
    "collapsed": false,
    "ein.tags": [
     "worksheet-0"
    ]
   },
   "outputs": [],
   "source": [
    "fig, ax = plt.subplots()\n",
    "x = np.linspace(0, 6*np.pi, 1000)\n",
    "y = np.sin(x)\n",
    "line, =ax.plot(x, y)\n"
   ]
  },
  {
   "cell_type": "code",
   "execution_count": null,
   "metadata": {
    "collapsed": true
   },
   "outputs": [],
   "source": []
  },
  {
   "cell_type": "code",
   "execution_count": null,
   "metadata": {
    "collapsed": true
   },
   "outputs": [],
   "source": []
  },
  {
   "cell_type": "code",
   "execution_count": null,
   "metadata": {
    "collapsed": true
   },
   "outputs": [],
   "source": []
  },
  {
   "cell_type": "code",
   "execution_count": null,
   "metadata": {
    "collapsed": false
   },
   "outputs": [],
   "source": [
    "def update(i):\n",
    "    global line\n",
    "    shift = np.pi/50\n",
    "    x = np.linspace(0, 6*np.pi, 1000)\n",
    "    y = np.sin(x + i*shift)\n",
    "    return line.set_data(x, y)"
   ]
  },
  {
   "cell_type": "code",
   "execution_count": null,
   "metadata": {
    "collapsed": true
   },
   "outputs": [],
   "source": [
    "anim = ani.FuncAnimation(fig, update, frames=1000)"
   ]
  },
  {
   "cell_type": "code",
   "execution_count": null,
   "metadata": {
    "collapsed": true
   },
   "outputs": [],
   "source": [
    "plt.show()"
   ]
  },
  {
   "cell_type": "markdown",
   "metadata": {
    "ein.tags": [
     "worksheet-0"
    ]
   },
   "source": [
    "This works! Animating a 2D image is similar. Except in the animate function, you will set both x and y data."
   ]
  },
  {
   "cell_type": "markdown",
   "metadata": {},
   "source": [
    "# Challenge 2\n",
    "\n",
    "Modify your $\\pi$ calculation to animate as it calculates pi. \n",
    "\n",
    "You can plot the circle of the line using the equation:\n",
    "$$\n",
    "x^2 + y^2 = 1\n",
    "$$\n",
    "\n",
    "Set the title of your plot to be the running approximation of $\\pi$."
   ]
  },
  {
   "cell_type": "code",
   "execution_count": null,
   "metadata": {
    "autoscroll": "json-false",
    "collapsed": false,
    "ein.tags": [
     "worksheet-0"
    ]
   },
   "outputs": [],
   "source": [
    "import numpy as np\n",
    "import random as rand\n",
    "from __future__ import division\n",
    "points_in =0\n",
    "x=0.0\n",
    "y=0.0\n",
    "rsq=0.0\n",
    "for i in range(100):\n",
    "    x= np.random.rand()\n",
    "    y= np.random.rand()\n",
    "    \n",
    "    rsq = x**2. +y**2.\n",
    "    if rsq <= 1:\n",
    "        points_in += 1\n",
    "        rsq = points_in/(i+1)\n",
    "print('rsq = {}'.format(rsq*4))\n",
    "    "
   ]
  },
  {
   "cell_type": "code",
   "execution_count": null,
   "metadata": {
    "collapsed": true
   },
   "outputs": [],
   "source": [
    "%matplotlib nbagg\n",
    "import matplotlib.pyplot as plt\n",
    "import matplotlib.animation as ani"
   ]
  },
  {
   "cell_type": "code",
   "execution_count": null,
   "metadata": {
    "collapsed": false
   },
   "outputs": [],
   "source": [
    "fig, ax = plt.subplots()\n",
    "#rsq my pi\n",
    "#x = np.linspace(0, 1, 1000)\n",
    "#y = np.tan(x)\n",
    "#line, =ax.plot([0,1],[0,1])"
   ]
  },
  {
   "cell_type": "code",
   "execution_count": null,
   "metadata": {
    "collapsed": false
   },
   "outputs": [],
   "source": [
    "def update(i):\n",
    "    x= np.random.rand()\n",
    "    y= np.random.rand()\n",
    "    return plt.plot(x,y, 'o')"
   ]
  },
  {
   "cell_type": "code",
   "execution_count": null,
   "metadata": {
    "collapsed": false
   },
   "outputs": [],
   "source": [
    "anim = ani.FuncAnimation(fig, update, frames=1000)"
   ]
  },
  {
   "cell_type": "code",
   "execution_count": null,
   "metadata": {
    "collapsed": false
   },
   "outputs": [],
   "source": [
    "plt.show()"
   ]
  },
  {
   "cell_type": "code",
   "execution_count": null,
   "metadata": {
    "collapsed": false
   },
   "outputs": [],
   "source": [
    "fig, ax = plt.subplots()"
   ]
  },
  {
   "cell_type": "code",
   "execution_count": null,
   "metadata": {
    "autoscroll": "json-false",
    "collapsed": false,
    "ein.tags": [
     "worksheet-0"
    ]
   },
   "outputs": [],
   "source": [
    "points_in =0 \n",
    "points_all =0 \n",
    "def calculate_point(i):\n",
    "    global points_in, points_all\n",
    "    x = np.random.rand()\n",
    "    y = np.random.rand()\n",
    "    r = np.sqrt(x**2 + y**2)\n",
    "    if r<=1:\n",
    "        points_in += 1\n",
    "        ax.plot(x, y, 'bo')\n",
    "    else:\n",
    "        ax.plot(x, y, 'ro')\n",
    "        \n",
    "    points_all += 1\n",
    "    pi_4 = points_in/points_all\n",
    "    pi = pi_4*4\n",
    "    plt.title('pi = {:.20f} of {}'.format(pi, points_all))\n",
    "            \n",
    "    "
   ]
  },
  {
   "cell_type": "code",
   "execution_count": null,
   "metadata": {
    "collapsed": false
   },
   "outputs": [],
   "source": [
    "x = np.linspace(0, 1, 1000)\n",
    "y = np.sqrt(1 - x**2)\n",
    "plt.plot(x, y)"
   ]
  },
  {
   "cell_type": "code",
   "execution_count": null,
   "metadata": {
    "collapsed": true
   },
   "outputs": [],
   "source": [
    "anim = ani.FuncAnimation(fig, calculate_point, frames=100)"
   ]
  },
  {
   "cell_type": "code",
   "execution_count": null,
   "metadata": {
    "autoscroll": "json-false",
    "collapsed": false,
    "ein.tags": [
     "worksheet-0"
    ]
   },
   "outputs": [],
   "source": [
    "plt.show()"
   ]
  },
  {
   "cell_type": "markdown",
   "metadata": {
    "ein.tags": [
     "worksheet-0"
    ]
   },
   "source": [
    "There is a further IPython Notebook talking about this in more detail."
   ]
  },
  {
   "cell_type": "code",
   "execution_count": 1,
   "metadata": {
    "collapsed": false
   },
   "outputs": [
    {
     "data": {
      "text/plain": [
       "(4999L, 3L)"
      ]
     },
     "execution_count": 1,
     "metadata": {},
     "output_type": "execute_result"
    }
   ],
   "source": [
    "import numpy as np\n",
    "%matplotlib nbagg\n",
    "import matplotlib.pyplot as plt\n",
    "#import matplotlib.animation as ani\n",
    "\n",
    "input_data = np.loadtxt('d25000sys5000aubin1.csv', delimiter = ',')\n",
    "input_data\n",
    "input_data.shape"
   ]
  },
  {
   "cell_type": "code",
   "execution_count": 2,
   "metadata": {
    "collapsed": false
   },
   "outputs": [],
   "source": [
    "input_data = np.sort(input_data, axis=1)"
   ]
  },
  {
   "cell_type": "code",
   "execution_count": 3,
   "metadata": {
    "collapsed": false
   },
   "outputs": [
    {
     "data": {
      "text/plain": [
       "(4999L, 3L)"
      ]
     },
     "execution_count": 3,
     "metadata": {},
     "output_type": "execute_result"
    }
   ],
   "source": [
    "np.cumsum (input_data, axis = 0, )\n",
    "cumsum = np.cumsum (input_data, axis = 0, )\n",
    "cumsum.shape"
   ]
  },
  {
   "cell_type": "code",
   "execution_count": 4,
   "metadata": {
    "collapsed": false
   },
   "outputs": [
    {
     "name": "stdout",
     "output_type": "stream",
     "text": [
      "[[  1.74481204e-06   5.78277416e-05   6.18416821e-05]\n",
      " [  3.48962408e-06   1.17854749e-04   1.26046740e-04]\n",
      " [  6.66200960e-06   1.78011124e-04   1.90383098e-04]\n",
      " ..., \n",
      " [  9.98414759e-01   9.98318338e-01   9.98200902e-01]\n",
      " [  9.99207062e-01   9.99149402e-01   9.99090013e-01]\n",
      " [  1.00000000e+00   1.00000000e+00   1.00000000e+00]]\n"
     ]
    }
   ],
   "source": [
    "\n",
    "cmd = cumsum/cumsum[-1, :]\n",
    "print (cmd)\n"
   ]
  },
  {
   "cell_type": "code",
   "execution_count": 12,
   "metadata": {
    "collapsed": false,
    "scrolled": false
   },
   "outputs": [
    {
     "data": {
      "application/javascript": [
       "/* Put everything inside the global mpl namespace */\n",
       "window.mpl = {};\n",
       "\n",
       "mpl.get_websocket_type = function() {\n",
       "    if (typeof(WebSocket) !== 'undefined') {\n",
       "        return WebSocket;\n",
       "    } else if (typeof(MozWebSocket) !== 'undefined') {\n",
       "        return MozWebSocket;\n",
       "    } else {\n",
       "        alert('Your browser does not have WebSocket support.' +\n",
       "              'Please try Chrome, Safari or Firefox ≥ 6. ' +\n",
       "              'Firefox 4 and 5 are also supported but you ' +\n",
       "              'have to enable WebSockets in about:config.');\n",
       "    };\n",
       "}\n",
       "\n",
       "mpl.figure = function(figure_id, websocket, ondownload, parent_element) {\n",
       "    this.id = figure_id;\n",
       "\n",
       "    this.ws = websocket;\n",
       "\n",
       "    this.supports_binary = (this.ws.binaryType != undefined);\n",
       "\n",
       "    if (!this.supports_binary) {\n",
       "        var warnings = document.getElementById(\"mpl-warnings\");\n",
       "        if (warnings) {\n",
       "            warnings.style.display = 'block';\n",
       "            warnings.textContent = (\n",
       "                \"This browser does not support binary websocket messages. \" +\n",
       "                    \"Performance may be slow.\");\n",
       "        }\n",
       "    }\n",
       "\n",
       "    this.imageObj = new Image();\n",
       "\n",
       "    this.context = undefined;\n",
       "    this.message = undefined;\n",
       "    this.canvas = undefined;\n",
       "    this.rubberband_canvas = undefined;\n",
       "    this.rubberband_context = undefined;\n",
       "    this.format_dropdown = undefined;\n",
       "\n",
       "    this.image_mode = 'full';\n",
       "\n",
       "    this.root = $('<div/>');\n",
       "    this._root_extra_style(this.root)\n",
       "    this.root.attr('style', 'display: inline-block');\n",
       "\n",
       "    $(parent_element).append(this.root);\n",
       "\n",
       "    this._init_header(this);\n",
       "    this._init_canvas(this);\n",
       "    this._init_toolbar(this);\n",
       "\n",
       "    var fig = this;\n",
       "\n",
       "    this.waiting = false;\n",
       "\n",
       "    this.ws.onopen =  function () {\n",
       "            fig.send_message(\"supports_binary\", {value: fig.supports_binary});\n",
       "            fig.send_message(\"send_image_mode\", {});\n",
       "            fig.send_message(\"refresh\", {});\n",
       "        }\n",
       "\n",
       "    this.imageObj.onload = function() {\n",
       "            if (fig.image_mode == 'full') {\n",
       "                // Full images could contain transparency (where diff images\n",
       "                // almost always do), so we need to clear the canvas so that\n",
       "                // there is no ghosting.\n",
       "                fig.context.clearRect(0, 0, fig.canvas.width, fig.canvas.height);\n",
       "            }\n",
       "            fig.context.drawImage(fig.imageObj, 0, 0);\n",
       "        };\n",
       "\n",
       "    this.imageObj.onunload = function() {\n",
       "        this.ws.close();\n",
       "    }\n",
       "\n",
       "    this.ws.onmessage = this._make_on_message_function(this);\n",
       "\n",
       "    this.ondownload = ondownload;\n",
       "}\n",
       "\n",
       "mpl.figure.prototype._init_header = function() {\n",
       "    var titlebar = $(\n",
       "        '<div class=\"ui-dialog-titlebar ui-widget-header ui-corner-all ' +\n",
       "        'ui-helper-clearfix\"/>');\n",
       "    var titletext = $(\n",
       "        '<div class=\"ui-dialog-title\" style=\"width: 100%; ' +\n",
       "        'text-align: center; padding: 3px;\"/>');\n",
       "    titlebar.append(titletext)\n",
       "    this.root.append(titlebar);\n",
       "    this.header = titletext[0];\n",
       "}\n",
       "\n",
       "\n",
       "\n",
       "mpl.figure.prototype._canvas_extra_style = function(canvas_div) {\n",
       "\n",
       "}\n",
       "\n",
       "\n",
       "mpl.figure.prototype._root_extra_style = function(canvas_div) {\n",
       "\n",
       "}\n",
       "\n",
       "mpl.figure.prototype._init_canvas = function() {\n",
       "    var fig = this;\n",
       "\n",
       "    var canvas_div = $('<div/>');\n",
       "\n",
       "    canvas_div.attr('style', 'position: relative; clear: both; outline: 0');\n",
       "\n",
       "    function canvas_keyboard_event(event) {\n",
       "        return fig.key_event(event, event['data']);\n",
       "    }\n",
       "\n",
       "    canvas_div.keydown('key_press', canvas_keyboard_event);\n",
       "    canvas_div.keyup('key_release', canvas_keyboard_event);\n",
       "    this.canvas_div = canvas_div\n",
       "    this._canvas_extra_style(canvas_div)\n",
       "    this.root.append(canvas_div);\n",
       "\n",
       "    var canvas = $('<canvas/>');\n",
       "    canvas.addClass('mpl-canvas');\n",
       "    canvas.attr('style', \"left: 0; top: 0; z-index: 0; outline: 0\")\n",
       "\n",
       "    this.canvas = canvas[0];\n",
       "    this.context = canvas[0].getContext(\"2d\");\n",
       "\n",
       "    var rubberband = $('<canvas/>');\n",
       "    rubberband.attr('style', \"position: absolute; left: 0; top: 0; z-index: 1;\")\n",
       "\n",
       "    var pass_mouse_events = true;\n",
       "\n",
       "    canvas_div.resizable({\n",
       "        start: function(event, ui) {\n",
       "            pass_mouse_events = false;\n",
       "        },\n",
       "        resize: function(event, ui) {\n",
       "            fig.request_resize(ui.size.width, ui.size.height);\n",
       "        },\n",
       "        stop: function(event, ui) {\n",
       "            pass_mouse_events = true;\n",
       "            fig.request_resize(ui.size.width, ui.size.height);\n",
       "        },\n",
       "    });\n",
       "\n",
       "    function mouse_event_fn(event) {\n",
       "        if (pass_mouse_events)\n",
       "            return fig.mouse_event(event, event['data']);\n",
       "    }\n",
       "\n",
       "    rubberband.mousedown('button_press', mouse_event_fn);\n",
       "    rubberband.mouseup('button_release', mouse_event_fn);\n",
       "    // Throttle sequential mouse events to 1 every 20ms.\n",
       "    rubberband.mousemove('motion_notify', mouse_event_fn);\n",
       "\n",
       "    rubberband.mouseenter('figure_enter', mouse_event_fn);\n",
       "    rubberband.mouseleave('figure_leave', mouse_event_fn);\n",
       "\n",
       "    canvas_div.on(\"wheel\", function (event) {\n",
       "        event = event.originalEvent;\n",
       "        event['data'] = 'scroll'\n",
       "        if (event.deltaY < 0) {\n",
       "            event.step = 1;\n",
       "        } else {\n",
       "            event.step = -1;\n",
       "        }\n",
       "        mouse_event_fn(event);\n",
       "    });\n",
       "\n",
       "    canvas_div.append(canvas);\n",
       "    canvas_div.append(rubberband);\n",
       "\n",
       "    this.rubberband = rubberband;\n",
       "    this.rubberband_canvas = rubberband[0];\n",
       "    this.rubberband_context = rubberband[0].getContext(\"2d\");\n",
       "    this.rubberband_context.strokeStyle = \"#000000\";\n",
       "\n",
       "    this._resize_canvas = function(width, height) {\n",
       "        // Keep the size of the canvas, canvas container, and rubber band\n",
       "        // canvas in synch.\n",
       "        canvas_div.css('width', width)\n",
       "        canvas_div.css('height', height)\n",
       "\n",
       "        canvas.attr('width', width);\n",
       "        canvas.attr('height', height);\n",
       "\n",
       "        rubberband.attr('width', width);\n",
       "        rubberband.attr('height', height);\n",
       "    }\n",
       "\n",
       "    // Set the figure to an initial 600x600px, this will subsequently be updated\n",
       "    // upon first draw.\n",
       "    this._resize_canvas(600, 600);\n",
       "\n",
       "    // Disable right mouse context menu.\n",
       "    $(this.rubberband_canvas).bind(\"contextmenu\",function(e){\n",
       "        return false;\n",
       "    });\n",
       "\n",
       "    function set_focus () {\n",
       "        canvas.focus();\n",
       "        canvas_div.focus();\n",
       "    }\n",
       "\n",
       "    window.setTimeout(set_focus, 100);\n",
       "}\n",
       "\n",
       "mpl.figure.prototype._init_toolbar = function() {\n",
       "    var fig = this;\n",
       "\n",
       "    var nav_element = $('<div/>')\n",
       "    nav_element.attr('style', 'width: 100%');\n",
       "    this.root.append(nav_element);\n",
       "\n",
       "    // Define a callback function for later on.\n",
       "    function toolbar_event(event) {\n",
       "        return fig.toolbar_button_onclick(event['data']);\n",
       "    }\n",
       "    function toolbar_mouse_event(event) {\n",
       "        return fig.toolbar_button_onmouseover(event['data']);\n",
       "    }\n",
       "\n",
       "    for(var toolbar_ind in mpl.toolbar_items) {\n",
       "        var name = mpl.toolbar_items[toolbar_ind][0];\n",
       "        var tooltip = mpl.toolbar_items[toolbar_ind][1];\n",
       "        var image = mpl.toolbar_items[toolbar_ind][2];\n",
       "        var method_name = mpl.toolbar_items[toolbar_ind][3];\n",
       "\n",
       "        if (!name) {\n",
       "            // put a spacer in here.\n",
       "            continue;\n",
       "        }\n",
       "        var button = $('<button/>');\n",
       "        button.addClass('ui-button ui-widget ui-state-default ui-corner-all ' +\n",
       "                        'ui-button-icon-only');\n",
       "        button.attr('role', 'button');\n",
       "        button.attr('aria-disabled', 'false');\n",
       "        button.click(method_name, toolbar_event);\n",
       "        button.mouseover(tooltip, toolbar_mouse_event);\n",
       "\n",
       "        var icon_img = $('<span/>');\n",
       "        icon_img.addClass('ui-button-icon-primary ui-icon');\n",
       "        icon_img.addClass(image);\n",
       "        icon_img.addClass('ui-corner-all');\n",
       "\n",
       "        var tooltip_span = $('<span/>');\n",
       "        tooltip_span.addClass('ui-button-text');\n",
       "        tooltip_span.html(tooltip);\n",
       "\n",
       "        button.append(icon_img);\n",
       "        button.append(tooltip_span);\n",
       "\n",
       "        nav_element.append(button);\n",
       "    }\n",
       "\n",
       "    var fmt_picker_span = $('<span/>');\n",
       "\n",
       "    var fmt_picker = $('<select/>');\n",
       "    fmt_picker.addClass('mpl-toolbar-option ui-widget ui-widget-content');\n",
       "    fmt_picker_span.append(fmt_picker);\n",
       "    nav_element.append(fmt_picker_span);\n",
       "    this.format_dropdown = fmt_picker[0];\n",
       "\n",
       "    for (var ind in mpl.extensions) {\n",
       "        var fmt = mpl.extensions[ind];\n",
       "        var option = $(\n",
       "            '<option/>', {selected: fmt === mpl.default_extension}).html(fmt);\n",
       "        fmt_picker.append(option)\n",
       "    }\n",
       "\n",
       "    // Add hover states to the ui-buttons\n",
       "    $( \".ui-button\" ).hover(\n",
       "        function() { $(this).addClass(\"ui-state-hover\");},\n",
       "        function() { $(this).removeClass(\"ui-state-hover\");}\n",
       "    );\n",
       "\n",
       "    var status_bar = $('<span class=\"mpl-message\"/>');\n",
       "    nav_element.append(status_bar);\n",
       "    this.message = status_bar[0];\n",
       "}\n",
       "\n",
       "mpl.figure.prototype.request_resize = function(x_pixels, y_pixels) {\n",
       "    // Request matplotlib to resize the figure. Matplotlib will then trigger a resize in the client,\n",
       "    // which will in turn request a refresh of the image.\n",
       "    this.send_message('resize', {'width': x_pixels, 'height': y_pixels});\n",
       "}\n",
       "\n",
       "mpl.figure.prototype.send_message = function(type, properties) {\n",
       "    properties['type'] = type;\n",
       "    properties['figure_id'] = this.id;\n",
       "    this.ws.send(JSON.stringify(properties));\n",
       "}\n",
       "\n",
       "mpl.figure.prototype.send_draw_message = function() {\n",
       "    if (!this.waiting) {\n",
       "        this.waiting = true;\n",
       "        this.ws.send(JSON.stringify({type: \"draw\", figure_id: this.id}));\n",
       "    }\n",
       "}\n",
       "\n",
       "\n",
       "mpl.figure.prototype.handle_save = function(fig, msg) {\n",
       "    var format_dropdown = fig.format_dropdown;\n",
       "    var format = format_dropdown.options[format_dropdown.selectedIndex].value;\n",
       "    fig.ondownload(fig, format);\n",
       "}\n",
       "\n",
       "\n",
       "mpl.figure.prototype.handle_resize = function(fig, msg) {\n",
       "    var size = msg['size'];\n",
       "    if (size[0] != fig.canvas.width || size[1] != fig.canvas.height) {\n",
       "        fig._resize_canvas(size[0], size[1]);\n",
       "        fig.send_message(\"refresh\", {});\n",
       "    };\n",
       "}\n",
       "\n",
       "mpl.figure.prototype.handle_rubberband = function(fig, msg) {\n",
       "    var x0 = msg['x0'];\n",
       "    var y0 = fig.canvas.height - msg['y0'];\n",
       "    var x1 = msg['x1'];\n",
       "    var y1 = fig.canvas.height - msg['y1'];\n",
       "    x0 = Math.floor(x0) + 0.5;\n",
       "    y0 = Math.floor(y0) + 0.5;\n",
       "    x1 = Math.floor(x1) + 0.5;\n",
       "    y1 = Math.floor(y1) + 0.5;\n",
       "    var min_x = Math.min(x0, x1);\n",
       "    var min_y = Math.min(y0, y1);\n",
       "    var width = Math.abs(x1 - x0);\n",
       "    var height = Math.abs(y1 - y0);\n",
       "\n",
       "    fig.rubberband_context.clearRect(\n",
       "        0, 0, fig.canvas.width, fig.canvas.height);\n",
       "\n",
       "    fig.rubberband_context.strokeRect(min_x, min_y, width, height);\n",
       "}\n",
       "\n",
       "mpl.figure.prototype.handle_figure_label = function(fig, msg) {\n",
       "    // Updates the figure title.\n",
       "    fig.header.textContent = msg['label'];\n",
       "}\n",
       "\n",
       "mpl.figure.prototype.handle_cursor = function(fig, msg) {\n",
       "    var cursor = msg['cursor'];\n",
       "    switch(cursor)\n",
       "    {\n",
       "    case 0:\n",
       "        cursor = 'pointer';\n",
       "        break;\n",
       "    case 1:\n",
       "        cursor = 'default';\n",
       "        break;\n",
       "    case 2:\n",
       "        cursor = 'crosshair';\n",
       "        break;\n",
       "    case 3:\n",
       "        cursor = 'move';\n",
       "        break;\n",
       "    }\n",
       "    fig.rubberband_canvas.style.cursor = cursor;\n",
       "}\n",
       "\n",
       "mpl.figure.prototype.handle_message = function(fig, msg) {\n",
       "    fig.message.textContent = msg['message'];\n",
       "}\n",
       "\n",
       "mpl.figure.prototype.handle_draw = function(fig, msg) {\n",
       "    // Request the server to send over a new figure.\n",
       "    fig.send_draw_message();\n",
       "}\n",
       "\n",
       "mpl.figure.prototype.handle_image_mode = function(fig, msg) {\n",
       "    fig.image_mode = msg['mode'];\n",
       "}\n",
       "\n",
       "mpl.figure.prototype.updated_canvas_event = function() {\n",
       "    // Called whenever the canvas gets updated.\n",
       "    this.send_message(\"ack\", {});\n",
       "}\n",
       "\n",
       "// A function to construct a web socket function for onmessage handling.\n",
       "// Called in the figure constructor.\n",
       "mpl.figure.prototype._make_on_message_function = function(fig) {\n",
       "    return function socket_on_message(evt) {\n",
       "        if (evt.data instanceof Blob) {\n",
       "            /* FIXME: We get \"Resource interpreted as Image but\n",
       "             * transferred with MIME type text/plain:\" errors on\n",
       "             * Chrome.  But how to set the MIME type?  It doesn't seem\n",
       "             * to be part of the websocket stream */\n",
       "            evt.data.type = \"image/png\";\n",
       "\n",
       "            /* Free the memory for the previous frames */\n",
       "            if (fig.imageObj.src) {\n",
       "                (window.URL || window.webkitURL).revokeObjectURL(\n",
       "                    fig.imageObj.src);\n",
       "            }\n",
       "\n",
       "            fig.imageObj.src = (window.URL || window.webkitURL).createObjectURL(\n",
       "                evt.data);\n",
       "            fig.updated_canvas_event();\n",
       "            fig.waiting = false;\n",
       "            return;\n",
       "        }\n",
       "        else if (typeof evt.data === 'string' && evt.data.slice(0, 21) == \"data:image/png;base64\") {\n",
       "            fig.imageObj.src = evt.data;\n",
       "            fig.updated_canvas_event();\n",
       "            fig.waiting = false;\n",
       "            return;\n",
       "        }\n",
       "\n",
       "        var msg = JSON.parse(evt.data);\n",
       "        var msg_type = msg['type'];\n",
       "\n",
       "        // Call the  \"handle_{type}\" callback, which takes\n",
       "        // the figure and JSON message as its only arguments.\n",
       "        try {\n",
       "            var callback = fig[\"handle_\" + msg_type];\n",
       "        } catch (e) {\n",
       "            console.log(\"No handler for the '\" + msg_type + \"' message type: \", msg);\n",
       "            return;\n",
       "        }\n",
       "\n",
       "        if (callback) {\n",
       "            try {\n",
       "                // console.log(\"Handling '\" + msg_type + \"' message: \", msg);\n",
       "                callback(fig, msg);\n",
       "            } catch (e) {\n",
       "                console.log(\"Exception inside the 'handler_\" + msg_type + \"' callback:\", e, e.stack, msg);\n",
       "            }\n",
       "        }\n",
       "    };\n",
       "}\n",
       "\n",
       "// from http://stackoverflow.com/questions/1114465/getting-mouse-location-in-canvas\n",
       "mpl.findpos = function(e) {\n",
       "    //this section is from http://www.quirksmode.org/js/events_properties.html\n",
       "    var targ;\n",
       "    if (!e)\n",
       "        e = window.event;\n",
       "    if (e.target)\n",
       "        targ = e.target;\n",
       "    else if (e.srcElement)\n",
       "        targ = e.srcElement;\n",
       "    if (targ.nodeType == 3) // defeat Safari bug\n",
       "        targ = targ.parentNode;\n",
       "\n",
       "    // jQuery normalizes the pageX and pageY\n",
       "    // pageX,Y are the mouse positions relative to the document\n",
       "    // offset() returns the position of the element relative to the document\n",
       "    var x = e.pageX - $(targ).offset().left;\n",
       "    var y = e.pageY - $(targ).offset().top;\n",
       "\n",
       "    return {\"x\": x, \"y\": y};\n",
       "};\n",
       "\n",
       "/*\n",
       " * return a copy of an object with only non-object keys\n",
       " * we need this to avoid circular references\n",
       " * http://stackoverflow.com/a/24161582/3208463\n",
       " */\n",
       "function simpleKeys (original) {\n",
       "  return Object.keys(original).reduce(function (obj, key) {\n",
       "    if (typeof original[key] !== 'object')\n",
       "        obj[key] = original[key]\n",
       "    return obj;\n",
       "  }, {});\n",
       "}\n",
       "\n",
       "mpl.figure.prototype.mouse_event = function(event, name) {\n",
       "    var canvas_pos = mpl.findpos(event)\n",
       "\n",
       "    if (name === 'button_press')\n",
       "    {\n",
       "        this.canvas.focus();\n",
       "        this.canvas_div.focus();\n",
       "    }\n",
       "\n",
       "    var x = canvas_pos.x;\n",
       "    var y = canvas_pos.y;\n",
       "\n",
       "    this.send_message(name, {x: x, y: y, button: event.button,\n",
       "                             step: event.step,\n",
       "                             guiEvent: simpleKeys(event)});\n",
       "\n",
       "    /* This prevents the web browser from automatically changing to\n",
       "     * the text insertion cursor when the button is pressed.  We want\n",
       "     * to control all of the cursor setting manually through the\n",
       "     * 'cursor' event from matplotlib */\n",
       "    event.preventDefault();\n",
       "    return false;\n",
       "}\n",
       "\n",
       "mpl.figure.prototype._key_event_extra = function(event, name) {\n",
       "    // Handle any extra behaviour associated with a key event\n",
       "}\n",
       "\n",
       "mpl.figure.prototype.key_event = function(event, name) {\n",
       "\n",
       "    // Prevent repeat events\n",
       "    if (name == 'key_press')\n",
       "    {\n",
       "        if (event.which === this._key)\n",
       "            return;\n",
       "        else\n",
       "            this._key = event.which;\n",
       "    }\n",
       "    if (name == 'key_release')\n",
       "        this._key = null;\n",
       "\n",
       "    var value = '';\n",
       "    if (event.ctrlKey && event.which != 17)\n",
       "        value += \"ctrl+\";\n",
       "    if (event.altKey && event.which != 18)\n",
       "        value += \"alt+\";\n",
       "    if (event.shiftKey && event.which != 16)\n",
       "        value += \"shift+\";\n",
       "\n",
       "    value += 'k';\n",
       "    value += event.which.toString();\n",
       "\n",
       "    this._key_event_extra(event, name);\n",
       "\n",
       "    this.send_message(name, {key: value,\n",
       "                             guiEvent: simpleKeys(event)});\n",
       "    return false;\n",
       "}\n",
       "\n",
       "mpl.figure.prototype.toolbar_button_onclick = function(name) {\n",
       "    if (name == 'download') {\n",
       "        this.handle_save(this, null);\n",
       "    } else {\n",
       "        this.send_message(\"toolbar_button\", {name: name});\n",
       "    }\n",
       "};\n",
       "\n",
       "mpl.figure.prototype.toolbar_button_onmouseover = function(tooltip) {\n",
       "    this.message.textContent = tooltip;\n",
       "};\n",
       "mpl.toolbar_items = [[\"Home\", \"Reset original view\", \"fa fa-home icon-home\", \"home\"], [\"Back\", \"Back to  previous view\", \"fa fa-arrow-left icon-arrow-left\", \"back\"], [\"Forward\", \"Forward to next view\", \"fa fa-arrow-right icon-arrow-right\", \"forward\"], [\"\", \"\", \"\", \"\"], [\"Pan\", \"Pan axes with left mouse, zoom with right\", \"fa fa-arrows icon-move\", \"pan\"], [\"Zoom\", \"Zoom to rectangle\", \"fa fa-square-o icon-check-empty\", \"zoom\"], [\"\", \"\", \"\", \"\"], [\"Download\", \"Download plot\", \"fa fa-floppy-o icon-save\", \"download\"]];\n",
       "\n",
       "mpl.extensions = [\"eps\", \"jpeg\", \"pdf\", \"png\", \"ps\", \"raw\", \"svg\", \"tif\"];\n",
       "\n",
       "mpl.default_extension = \"png\";var comm_websocket_adapter = function(comm) {\n",
       "    // Create a \"websocket\"-like object which calls the given IPython comm\n",
       "    // object with the appropriate methods. Currently this is a non binary\n",
       "    // socket, so there is still some room for performance tuning.\n",
       "    var ws = {};\n",
       "\n",
       "    ws.close = function() {\n",
       "        comm.close()\n",
       "    };\n",
       "    ws.send = function(m) {\n",
       "        //console.log('sending', m);\n",
       "        comm.send(m);\n",
       "    };\n",
       "    // Register the callback with on_msg.\n",
       "    comm.on_msg(function(msg) {\n",
       "        //console.log('receiving', msg['content']['data'], msg);\n",
       "        // Pass the mpl event to the overriden (by mpl) onmessage function.\n",
       "        ws.onmessage(msg['content']['data'])\n",
       "    });\n",
       "    return ws;\n",
       "}\n",
       "\n",
       "mpl.mpl_figure_comm = function(comm, msg) {\n",
       "    // This is the function which gets called when the mpl process\n",
       "    // starts-up an IPython Comm through the \"matplotlib\" channel.\n",
       "\n",
       "    var id = msg.content.data.id;\n",
       "    // Get hold of the div created by the display call when the Comm\n",
       "    // socket was opened in Python.\n",
       "    var element = $(\"#\" + id);\n",
       "    var ws_proxy = comm_websocket_adapter(comm)\n",
       "\n",
       "    function ondownload(figure, format) {\n",
       "        window.open(figure.imageObj.src);\n",
       "    }\n",
       "\n",
       "    var fig = new mpl.figure(id, ws_proxy,\n",
       "                           ondownload,\n",
       "                           element.get(0));\n",
       "\n",
       "    // Call onopen now - mpl needs it, as it is assuming we've passed it a real\n",
       "    // web socket which is closed, not our websocket->open comm proxy.\n",
       "    ws_proxy.onopen();\n",
       "\n",
       "    fig.parent_element = element.get(0);\n",
       "    fig.cell_info = mpl.find_output_cell(\"<div id='\" + id + \"'></div>\");\n",
       "    if (!fig.cell_info) {\n",
       "        console.error(\"Failed to find cell for figure\", id, fig);\n",
       "        return;\n",
       "    }\n",
       "\n",
       "    var output_index = fig.cell_info[2]\n",
       "    var cell = fig.cell_info[0];\n",
       "\n",
       "};\n",
       "\n",
       "mpl.figure.prototype.handle_close = function(fig, msg) {\n",
       "    fig.root.unbind('remove')\n",
       "\n",
       "    // Update the output cell to use the data from the current canvas.\n",
       "    fig.push_to_output();\n",
       "    var dataURL = fig.canvas.toDataURL();\n",
       "    // Re-enable the keyboard manager in IPython - without this line, in FF,\n",
       "    // the notebook keyboard shortcuts fail.\n",
       "    IPython.keyboard_manager.enable()\n",
       "    $(fig.parent_element).html('<img src=\"' + dataURL + '\">');\n",
       "    fig.close_ws(fig, msg);\n",
       "}\n",
       "\n",
       "mpl.figure.prototype.close_ws = function(fig, msg){\n",
       "    fig.send_message('closing', msg);\n",
       "    // fig.ws.close()\n",
       "}\n",
       "\n",
       "mpl.figure.prototype.push_to_output = function(remove_interactive) {\n",
       "    // Turn the data on the canvas into data in the output cell.\n",
       "    var dataURL = this.canvas.toDataURL();\n",
       "    this.cell_info[1]['text/html'] = '<img src=\"' + dataURL + '\">';\n",
       "}\n",
       "\n",
       "mpl.figure.prototype.updated_canvas_event = function() {\n",
       "    // Tell IPython that the notebook contents must change.\n",
       "    IPython.notebook.set_dirty(true);\n",
       "    this.send_message(\"ack\", {});\n",
       "    var fig = this;\n",
       "    // Wait a second, then push the new image to the DOM so\n",
       "    // that it is saved nicely (might be nice to debounce this).\n",
       "    setTimeout(function () { fig.push_to_output() }, 1000);\n",
       "}\n",
       "\n",
       "mpl.figure.prototype._init_toolbar = function() {\n",
       "    var fig = this;\n",
       "\n",
       "    var nav_element = $('<div/>')\n",
       "    nav_element.attr('style', 'width: 100%');\n",
       "    this.root.append(nav_element);\n",
       "\n",
       "    // Define a callback function for later on.\n",
       "    function toolbar_event(event) {\n",
       "        return fig.toolbar_button_onclick(event['data']);\n",
       "    }\n",
       "    function toolbar_mouse_event(event) {\n",
       "        return fig.toolbar_button_onmouseover(event['data']);\n",
       "    }\n",
       "\n",
       "    for(var toolbar_ind in mpl.toolbar_items){\n",
       "        var name = mpl.toolbar_items[toolbar_ind][0];\n",
       "        var tooltip = mpl.toolbar_items[toolbar_ind][1];\n",
       "        var image = mpl.toolbar_items[toolbar_ind][2];\n",
       "        var method_name = mpl.toolbar_items[toolbar_ind][3];\n",
       "\n",
       "        if (!name) { continue; };\n",
       "\n",
       "        var button = $('<button class=\"btn btn-default\" href=\"#\" title=\"' + name + '\"><i class=\"fa ' + image + ' fa-lg\"></i></button>');\n",
       "        button.click(method_name, toolbar_event);\n",
       "        button.mouseover(tooltip, toolbar_mouse_event);\n",
       "        nav_element.append(button);\n",
       "    }\n",
       "\n",
       "    // Add the status bar.\n",
       "    var status_bar = $('<span class=\"mpl-message\" style=\"text-align:right; float: right;\"/>');\n",
       "    nav_element.append(status_bar);\n",
       "    this.message = status_bar[0];\n",
       "\n",
       "    // Add the close button to the window.\n",
       "    var buttongrp = $('<div class=\"btn-group inline pull-right\"></div>');\n",
       "    var button = $('<button class=\"btn btn-mini btn-primary\" href=\"#\" title=\"Stop Interaction\"><i class=\"fa fa-power-off icon-remove icon-large\"></i></button>');\n",
       "    button.click(function (evt) { fig.handle_close(fig, {}); } );\n",
       "    button.mouseover('Stop Interaction', toolbar_mouse_event);\n",
       "    buttongrp.append(button);\n",
       "    var titlebar = this.root.find($('.ui-dialog-titlebar'));\n",
       "    titlebar.prepend(buttongrp);\n",
       "}\n",
       "\n",
       "mpl.figure.prototype._root_extra_style = function(el){\n",
       "    var fig = this\n",
       "    el.on(\"remove\", function(){\n",
       "\tfig.close_ws(fig, {});\n",
       "    });\n",
       "}\n",
       "\n",
       "mpl.figure.prototype._canvas_extra_style = function(el){\n",
       "    // this is important to make the div 'focusable\n",
       "    el.attr('tabindex', 0)\n",
       "    // reach out to IPython and tell the keyboard manager to turn it's self\n",
       "    // off when our div gets focus\n",
       "\n",
       "    // location in version 3\n",
       "    if (IPython.notebook.keyboard_manager) {\n",
       "        IPython.notebook.keyboard_manager.register_events(el);\n",
       "    }\n",
       "    else {\n",
       "        // location in version 2\n",
       "        IPython.keyboard_manager.register_events(el);\n",
       "    }\n",
       "\n",
       "}\n",
       "\n",
       "mpl.figure.prototype._key_event_extra = function(event, name) {\n",
       "    var manager = IPython.notebook.keyboard_manager;\n",
       "    if (!manager)\n",
       "        manager = IPython.keyboard_manager;\n",
       "\n",
       "    // Check for shift+enter\n",
       "    if (event.shiftKey && event.which == 13) {\n",
       "        this.canvas_div.blur();\n",
       "        event.shiftKey = false;\n",
       "        // Send a \"J\" for go to next cell\n",
       "        event.which = 74;\n",
       "        event.keyCode = 74;\n",
       "        manager.command_mode();\n",
       "        manager.handle_keydown(event);\n",
       "    }\n",
       "}\n",
       "\n",
       "mpl.figure.prototype.handle_save = function(fig, msg) {\n",
       "    fig.ondownload(fig, null);\n",
       "}\n",
       "\n",
       "\n",
       "mpl.find_output_cell = function(html_output) {\n",
       "    // Return the cell and output element which can be found *uniquely* in the notebook.\n",
       "    // Note - this is a bit hacky, but it is done because the \"notebook_saving.Notebook\"\n",
       "    // IPython event is triggered only after the cells have been serialised, which for\n",
       "    // our purposes (turning an active figure into a static one), is too late.\n",
       "    var cells = IPython.notebook.get_cells();\n",
       "    var ncells = cells.length;\n",
       "    for (var i=0; i<ncells; i++) {\n",
       "        var cell = cells[i];\n",
       "        if (cell.cell_type === 'code'){\n",
       "            for (var j=0; j<cell.output_area.outputs.length; j++) {\n",
       "                var data = cell.output_area.outputs[j];\n",
       "                if (data.data) {\n",
       "                    // IPython >= 3 moved mimebundle to data attribute of output\n",
       "                    data = data.data;\n",
       "                }\n",
       "                if (data['text/html'] == html_output) {\n",
       "                    return [cell, data, j];\n",
       "                }\n",
       "            }\n",
       "        }\n",
       "    }\n",
       "}\n",
       "\n",
       "// Register the function which deals with the matplotlib target/channel.\n",
       "// The kernel may be null if the page has been refreshed.\n",
       "if (IPython.notebook.kernel != null) {\n",
       "    IPython.notebook.kernel.comm_manager.register_target('matplotlib', mpl.mpl_figure_comm);\n",
       "}\n"
      ],
      "text/plain": [
       "<IPython.core.display.Javascript object>"
      ]
     },
     "metadata": {},
     "output_type": "display_data"
    },
    {
     "data": {
      "text/html": [
       "<img src=\"data:image/png;base64,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\">"
      ],
      "text/plain": [
       "<IPython.core.display.HTML object>"
      ]
     },
     "metadata": {},
     "output_type": "display_data"
    }
   ],
   "source": [
    "%matplotlib nbagg\n",
    "import matplotlib.pyplot as plt\n",
    "#import matplotlib.animation as ani\n",
    "import numpy as np\n",
    "plt.semilogx(cmd[:, 0], color ='red', linestyle = '--', label ='d2')\n",
    "plt.semilogx(cmd[:, 1], color ='blue', linestyle = '--', label = 'd10')\n",
    "plt.semilogx(cmd[:, 2], color ='green', linestyle = '-', label = 'd2guess')\n",
    "plt.legend(loc = 0)\n",
    "plt.xlabel('Distribution(Au)')\n",
    "plt.ylabel('CDF')\n",
    "plt.axis([1.5,1.5e4,0,1.2])\n",
    "plt.title('Fig 1: CDF For diff AU')\n",
    "plt.savefig ('d2 d10 d2guess cmd')\n"
   ]
  },
  {
   "cell_type": "code",
   "execution_count": null,
   "metadata": {
    "collapsed": true
   },
   "outputs": [],
   "source": []
  }
 ],
 "metadata": {
  "kernelspec": {
   "display_name": "Python 2",
   "language": "python",
   "name": "python2"
  },
  "language_info": {
   "codemirror_mode": {
    "name": "ipython",
    "version": 2
   },
   "file_extension": ".py",
   "mimetype": "text/x-python",
   "name": "python",
   "nbconvert_exporter": "python",
   "pygments_lexer": "ipython2",
   "version": "2.7.11"
  }
 },
 "nbformat": 4,
 "nbformat_minor": 0
}
